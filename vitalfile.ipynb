{
  "nbformat": 4,
  "nbformat_minor": 0,
  "metadata": {
    "colab": {
      "name": "Untitled0.ipynb",
      "provenance": [],
      "toc_visible": true,
      "authorship_tag": "ABX9TyOZes0R0SX1+K11VFYBtA8a",
      "include_colab_link": true
    },
    "kernelspec": {
      "name": "python3",
      "display_name": "Python 3"
    }
  },
  "cells": [
    {
      "cell_type": "markdown",
      "metadata": {
        "id": "view-in-github",
        "colab_type": "text"
      },
      "source": [
        "<a href=\"https://colab.research.google.com/github/vitaldb/pyvital/blob/master/vitalfile.ipynb\" target=\"_parent\"><img src=\"https://colab.research.google.com/assets/colab-badge.svg\" alt=\"Open In Colab\"/></a>"
      ]
    },
    {
      "cell_type": "markdown",
      "metadata": {
        "id": "X2COxMJNUxIh",
        "colab_type": "text"
      },
      "source": [
        "# Vital 파일 다루기\n",
        "본 실습에서는 Vital Recorder 에서 생성한 Vital 파일을 파이선으로 읽어오는 방법을 배워봅니다."
      ]
    },
    {
      "cell_type": "markdown",
      "metadata": {
        "id": "0pAlf-93XLo9",
        "colab_type": "text"
      },
      "source": [
        "## 샘플 파일 다운로드\n",
        "아래 코드를 실행하여 vitaldb 의 샘플 vital 파일을 다운로드 합니다."
      ]
    },
    {
      "cell_type": "code",
      "metadata": {
        "id": "jK_-H6WtUz_9",
        "colab_type": "code",
        "colab": {
          "base_uri": "https://localhost:8080/",
          "height": 407
        },
        "outputId": "2c11c2ba-1955-486c-d00a-12fbaf8000bd"
      },
      "source": [
        "!wget https://vitaldb.net/samples/00001.vital\n",
        "!wget https://vitaldb.net/samples/00002.vital"
      ],
      "execution_count": 2,
      "outputs": [
        {
          "output_type": "stream",
          "text": [
            "--2020-09-11 13:27:07--  https://vitaldb.net/sample10.zip\n",
            "Resolving vitaldb.net (vitaldb.net)... 13.124.219.140, 3.34.34.235\n",
            "Connecting to vitaldb.net (vitaldb.net)|13.124.219.140|:443... connected.\n",
            "HTTP request sent, awaiting response... 200 OK\n",
            "Length: 190698181 (182M) [application/zip]\n",
            "Saving to: ‘sample10.zip’\n",
            "\n",
            "sample10.zip        100%[===================>] 181.86M  21.2MB/s    in 8.1s    \n",
            "\n",
            "2020-09-11 13:27:15 (22.5 MB/s) - ‘sample10.zip’ saved [190698181/190698181]\n",
            "\n",
            "Archive:  sample10.zip\n",
            "  inflating: 00001.vital             \n",
            "  inflating: 00002.vital             \n",
            "  inflating: 00003.vital             \n",
            "  inflating: 00004.vital             \n",
            "  inflating: 00005.vital             \n",
            "  inflating: 00006.vital             \n",
            "  inflating: 00007.vital             \n",
            "  inflating: 00008.vital             \n",
            "  inflating: 00009.vital             \n",
            "  inflating: 00010.vital             \n"
          ],
          "name": "stdout"
        }
      ]
    },
    {
      "cell_type": "markdown",
      "metadata": {
        "id": "Yz6rZEtHVQwG",
        "colab_type": "text"
      },
      "source": [
        "## vital 파일을 읽기 위한 라이브러리 다운로드 및 import\n",
        "github에 공개된 vitalutils 코드 중 vital 파일을 읽기 위한 vitalfile 모듈을 읽어옵니다."
      ]
    },
    {
      "cell_type": "code",
      "metadata": {
        "id": "kUNWEjj6Vh1L",
        "colab_type": "code",
        "colab": {
          "base_uri": "https://localhost:8080/",
          "height": 212
        },
        "outputId": "6b1daccd-070e-45bf-cfde-c6f32c07d902"
      },
      "source": [
        "!wget https://raw.githubusercontent.com/vitaldb/vitalutils/master/python/vitalfile.py\n",
        "\n",
        "from vitalfile import VitalFile"
      ],
      "execution_count": 1,
      "outputs": [
        {
          "output_type": "stream",
          "text": [
            "--2020-09-11 13:25:55--  https://raw.githubusercontent.com/vitaldb/vitalutils/master/python/vitalfile.py\n",
            "Resolving raw.githubusercontent.com (raw.githubusercontent.com)... 151.101.0.133, 151.101.64.133, 151.101.128.133, ...\n",
            "Connecting to raw.githubusercontent.com (raw.githubusercontent.com)|151.101.0.133|:443... connected.\n",
            "HTTP request sent, awaiting response... 200 OK\n",
            "Length: 11660 (11K) [text/plain]\n",
            "Saving to: ‘vitalfile.py’\n",
            "\n",
            "vitalfile.py        100%[===================>]  11.39K  --.-KB/s    in 0s      \n",
            "\n",
            "2020-09-11 13:25:55 (110 MB/s) - ‘vitalfile.py’ saved [11660/11660]\n",
            "\n"
          ],
          "name": "stdout"
        }
      ]
    },
    {
      "cell_type": "markdown",
      "metadata": {
        "id": "XARQ3Zs1WVE7",
        "colab_type": "text"
      },
      "source": [
        "VitalFile 클래스를 이용하여 vital 파일을 읽어옵니다."
      ]
    },
    {
      "cell_type": "code",
      "metadata": {
        "id": "FS-_Ey9XWnX0",
        "colab_type": "code",
        "colab": {}
      },
      "source": [
        "vf = VitalFile(\"00001.vital\")\n",
        "vals = vf.get_samples(\"ECG\")"
      ],
      "execution_count": null,
      "outputs": []
    }
  ]
}